{
 "cells": [
  {
   "cell_type": "code",
   "execution_count": 3,
   "id": "5ddecc99-7e22-4769-b2ac-0ff468179e5b",
   "metadata": {},
   "outputs": [],
   "source": [
    "import matplotlib.pyplot as plt\n",
    "import numpy as np"
   ]
  },
  {
   "cell_type": "code",
   "execution_count": 9,
   "id": "b321d2f4-e71b-4752-950b-4a380d968dcd",
   "metadata": {},
   "outputs": [],
   "source": [
    "experimentinput = np.loadtxt(\"sandtimer.txt\", delimiter=\",\")\n",
    "experiment = np.transpose(experimentinput)\n",
    "a_forward = experiment[0]\n",
    "a_backward = experiment[1]\n",
    "b_forward = experiment[2]\n",
    "b_backward = experiment[3]"
   ]
  },
  {
   "cell_type": "code",
   "execution_count": 48,
   "id": "eac59d44-be0e-4cc0-bb84-d9707fae7582",
   "metadata": {},
   "outputs": [
    {
     "data": {
      "image/png": "[encoded data removed]",
      "text/plain": [
       "<Figure size 864x288 with 1 Axes>"
      ]
     },
     "metadata": {
      "needs_background": "light"
     },
     "output_type": "display_data"
    }
   ],
   "source": [
    "plt.figure(figsize = (12,4))\n",
    "plt.boxplot([experiment[0], experiment[1], experiment[2], experiment[3]], vert=0)\n",
    "plt.yticks([1,2,3,4], ['Forward A', 'Backward A', 'Forward B', 'Backward B'])\n",
    "plt.xlabel('seconds')\n",
    "plt.show()"
   ]
  },
  {
   "cell_type": "code",
   "execution_count": null,
   "id": "e97c819e-7b4d-4391-b1f2-d5ac87eb14ce",
   "metadata": {},
   "outputs": [],
   "source": []
  },
  {
   "cell_type": "code",
   "execution_count": null,
   "id": "6ef44226-c4b2-4767-8d6f-cc1de6196754",
   "metadata": {},
   "outputs": [],
   "source": []
  }
 ],
 "metadata": {
  "kernelspec": {
   "display_name": "Python 3 (ipykernel)",
   "language": "python",
   "name": "python3"
  },
  "language_info": {
   "codemirror_mode": {
    "name": "ipython",
    "version": 3
   },
   "file_extension": ".py",
   "mimetype": "text/x-python",
   "name": "python",
   "nbconvert_exporter": "python",
   "pygments_lexer": "ipython3",
   "version": "3.10.4"
  }
 },
 "nbformat": 4,
 "nbformat_minor": 5
}
